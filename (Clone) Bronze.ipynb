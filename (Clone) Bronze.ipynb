{
 "cells": [
  {
   "cell_type": "code",
   "execution_count": 0,
   "metadata": {
    "application/vnd.databricks.v1+cell": {
     "cellMetadata": {
      "byteLimit": 2048000,
      "rowLimit": 10000
     },
     "inputWidgets": {},
     "nuid": "15be3088-c17d-40f8-976b-a4683774a9f3",
     "showTitle": false,
     "tableResultSettingsMap": {},
     "title": ""
    }
   },
   "outputs": [],
   "source": [
    "from pyspark.sql.functions import *\n",
    "from pyspark.sql.types import *\n",
    "from pyspark.sql.window import Window"
   ]
  },
  {
   "cell_type": "code",
   "execution_count": 0,
   "metadata": {
    "application/vnd.databricks.v1+cell": {
     "cellMetadata": {},
     "inputWidgets": {},
     "nuid": "c1c2f66f-a962-4023-8476-8f5027189579",
     "showTitle": false,
     "tableResultSettingsMap": {},
     "title": ""
    }
   },
   "outputs": [],
   "source": [
    "%sql\n",
    "select * from table customer_df"
   ]
  },
  {
   "cell_type": "markdown",
   "metadata": {
    "application/vnd.databricks.v1+cell": {
     "cellMetadata": {
      "byteLimit": 2048000,
      "rowLimit": 10000
     },
     "inputWidgets": {},
     "nuid": "14464911-06e7-4d1a-bde3-b9deccff5e9f",
     "showTitle": false,
     "tableResultSettingsMap": {},
     "title": ""
    }
   },
   "source": [
    "### Customers data"
   ]
  },
  {
   "cell_type": "code",
   "execution_count": 0,
   "metadata": {
    "application/vnd.databricks.v1+cell": {
     "cellMetadata": {
      "byteLimit": 2048000,
      "rowLimit": 10000
     },
     "inputWidgets": {},
     "nuid": "38c74405-177b-4aff-952e-720ff27e8773",
     "showTitle": false,
     "tableResultSettingsMap": {},
     "title": ""
    }
   },
   "outputs": [],
   "source": [
    "customer_df=spark.read.format(\"csv\").option(\"header\",\"true\").option(\"inferSchema\",\"true\").load('abfss://servicecenterdata@servicecentreadlsgen2.dfs.core.windows.net/project/bronze/Malik_Customers_Data.csv'\n",
    ")"
   ]
  },
  {
   "cell_type": "code",
   "execution_count": 0,
   "metadata": {
    "application/vnd.databricks.v1+cell": {
     "cellMetadata": {
      "byteLimit": 2048000,
      "rowLimit": 10000
     },
     "inputWidgets": {},
     "nuid": "4ef6a924-b638-4f38-8683-b7207d4349f8",
     "showTitle": false,
     "tableResultSettingsMap": {},
     "title": ""
    }
   },
   "outputs": [],
   "source": [
    "customer_df.count()"
   ]
  },
  {
   "cell_type": "code",
   "execution_count": 0,
   "metadata": {
    "application/vnd.databricks.v1+cell": {
     "cellMetadata": {
      "byteLimit": 2048000,
      "rowLimit": 10000
     },
     "inputWidgets": {},
     "nuid": "eb083029-36cf-4cfc-897f-a45f1526dd92",
     "showTitle": false,
     "tableResultSettingsMap": {},
     "title": ""
    }
   },
   "outputs": [],
   "source": [
    "duplicates=customer_df.groupBy(\"customer_id\").count().filter(col(\"count\")>1)"
   ]
  },
  {
   "cell_type": "code",
   "execution_count": 0,
   "metadata": {
    "application/vnd.databricks.v1+cell": {
     "cellMetadata": {
      "byteLimit": 2048000,
      "rowLimit": 10000
     },
     "inputWidgets": {},
     "nuid": "5923f688-4837-4272-abee-c7ae198e24b3",
     "showTitle": false,
     "tableResultSettingsMap": {},
     "title": ""
    }
   },
   "outputs": [],
   "source": [
    "#customer_df = customer_df.dropDuplicates([\"customer_id\"])"
   ]
  },
  {
   "cell_type": "code",
   "execution_count": 0,
   "metadata": {
    "application/vnd.databricks.v1+cell": {
     "cellMetadata": {
      "byteLimit": 2048000,
      "rowLimit": 10000
     },
     "inputWidgets": {},
     "nuid": "056748f0-858a-494c-96d1-64787d77c9df",
     "showTitle": false,
     "tableResultSettingsMap": {},
     "title": ""
    }
   },
   "outputs": [],
   "source": [
    "display(customer_df)"
   ]
  },
  {
   "cell_type": "code",
   "execution_count": 0,
   "metadata": {
    "application/vnd.databricks.v1+cell": {
     "cellMetadata": {
      "byteLimit": 2048000,
      "rowLimit": 10000
     },
     "inputWidgets": {},
     "nuid": "06907c50-a57b-4e26-b185-d7e1e5534858",
     "showTitle": false,
     "tableResultSettingsMap": {},
     "title": ""
    }
   },
   "outputs": [],
   "source": [
    "from pyspark.sql.functions import col\n",
    "customer_df.filter(col(\"Pincode\").isNull()).count()"
   ]
  },
  {
   "cell_type": "code",
   "execution_count": 0,
   "metadata": {
    "application/vnd.databricks.v1+cell": {
     "cellMetadata": {
      "byteLimit": 2048000,
      "rowLimit": 10000
     },
     "inputWidgets": {},
     "nuid": "26259680-ecbd-4b30-a166-21dff5e92297",
     "showTitle": false,
     "tableResultSettingsMap": {},
     "title": ""
    }
   },
   "outputs": [],
   "source": [
    "duplicates=customer_df.groupBy(\"customer_id\").count().filter(col(\"count\")>1)"
   ]
  },
  {
   "cell_type": "code",
   "execution_count": 0,
   "metadata": {
    "application/vnd.databricks.v1+cell": {
     "cellMetadata": {
      "byteLimit": 2048000,
      "rowLimit": 10000
     },
     "inputWidgets": {},
     "nuid": "350bc657-5206-47ac-8544-98159900846b",
     "showTitle": false,
     "tableResultSettingsMap": {},
     "title": ""
    }
   },
   "outputs": [],
   "source": [
    "display(duplicates)"
   ]
  },
  {
   "cell_type": "code",
   "execution_count": 0,
   "metadata": {
    "application/vnd.databricks.v1+cell": {
     "cellMetadata": {
      "byteLimit": 2048000,
      "rowLimit": 10000
     },
     "inputWidgets": {},
     "nuid": "eef6dfcf-1d01-4384-ad8a-218003c66459",
     "showTitle": false,
     "tableResultSettingsMap": {},
     "title": ""
    }
   },
   "outputs": [],
   "source": [
    "customer_df = customer_df.withColumnRenamed(\"Temporary Registration Number\", \"Temporary Registration Number\").withColumnRenamed(\"Invoice Date\", \"Invoice_Date\").withColumnRenamed(\"Chassis Number\", \"Chassis_Number\")"
   ]
  },
  {
   "cell_type": "code",
   "execution_count": 0,
   "metadata": {
    "application/vnd.databricks.v1+cell": {
     "cellMetadata": {
      "byteLimit": 2048000,
      "rowLimit": 10000
     },
     "inputWidgets": {},
     "nuid": "6dcf8a3d-7719-46a8-9929-943ed56401d6",
     "showTitle": false,
     "tableResultSettingsMap": {},
     "title": ""
    }
   },
   "outputs": [],
   "source": [
    "%python\n",
    "customer_df.write.format(\"delta\").mode(\"overwrite\").option(\"mergeSchema\", \"true\").save(\"abfss://servicecenterdata@servicecentreadlsgen2.dfs.core.windows.net/project/bronze/output/customer_data\")\n",
    "customer_df.write.format(\"delta\").mode(\"overwrite\").option(\"mergeSchema\", \"true\").saveAsTable(\"service_center.bronze_schema.customer_data\")"
   ]
  },
  {
   "cell_type": "markdown",
   "metadata": {
    "application/vnd.databricks.v1+cell": {
     "cellMetadata": {
      "byteLimit": 2048000,
      "rowLimit": 10000
     },
     "inputWidgets": {},
     "nuid": "03e1f68c-06de-439e-a155-425e86ecc1c8",
     "showTitle": false,
     "tableResultSettingsMap": {},
     "title": ""
    }
   },
   "source": [
    "### Sales Data"
   ]
  },
  {
   "cell_type": "code",
   "execution_count": 0,
   "metadata": {
    "application/vnd.databricks.v1+cell": {
     "cellMetadata": {
      "byteLimit": 2048000,
      "rowLimit": 10000
     },
     "inputWidgets": {},
     "nuid": "2138606d-6e18-4839-a1d0-cdf5973709f6",
     "showTitle": false,
     "tableResultSettingsMap": {},
     "title": ""
    }
   },
   "outputs": [],
   "source": [
    "sales_df=spark.read.format(\"csv\").option(\"header\",\"true\").option(\"inferSchema\",\"true\").load('abfss://servicecenterdata@servicecentreadlsgen2.dfs.core.windows.net/project/bronze/Malik_Motors_Sales.csv')"
   ]
  },
  {
   "cell_type": "code",
   "execution_count": 0,
   "metadata": {
    "application/vnd.databricks.v1+cell": {
     "cellMetadata": {
      "byteLimit": 2048000,
      "implicitDf": true,
      "rowLimit": 10000
     },
     "inputWidgets": {},
     "nuid": "9f01bc70-9608-484c-b86d-fbee488c9a54",
     "showTitle": false,
     "tableResultSettingsMap": {},
     "title": ""
    }
   },
   "outputs": [],
   "source": [
    "sales_df = sales_df.withColumn(\"Parts Price\", col(\"Parts Price\").cast(DoubleType()))"
   ]
  },
  {
   "cell_type": "code",
   "execution_count": 0,
   "metadata": {
    "application/vnd.databricks.v1+cell": {
     "cellMetadata": {
      "byteLimit": 2048000,
      "rowLimit": 10000
     },
     "inputWidgets": {},
     "nuid": "47eaea7d-8116-4a50-a6f1-b0b4dfd7cdfd",
     "showTitle": false,
     "tableResultSettingsMap": {},
     "title": ""
    }
   },
   "outputs": [],
   "source": [
    "sales_df = sales_df.withColumnRenamed(\"Dealer Name\", \"Dealer_Name\").withColumnRenamed(\"Base Price\", \"Base_Price\").withColumnRenamed(\"Parts Price\", \"Parts_Price\").withColumnRenamed(\"Parts Added\", \"Parts_Added\")"
   ]
  },
  {
   "cell_type": "code",
   "execution_count": 0,
   "metadata": {
    "application/vnd.databricks.v1+cell": {
     "cellMetadata": {
      "byteLimit": 2048000,
      "rowLimit": 10000
     },
     "inputWidgets": {},
     "nuid": "9b2cccaf-8ec2-465e-addc-e7df4ecbfbba",
     "showTitle": false,
     "tableResultSettingsMap": {},
     "title": ""
    }
   },
   "outputs": [],
   "source": [
    "display(sales_df)"
   ]
  },
  {
   "cell_type": "code",
   "execution_count": 0,
   "metadata": {
    "application/vnd.databricks.v1+cell": {
     "cellMetadata": {
      "byteLimit": 2048000,
      "rowLimit": 10000
     },
     "inputWidgets": {},
     "nuid": "1efec200-91c3-43c5-aa52-5e3f7e6f3770",
     "showTitle": false,
     "tableResultSettingsMap": {},
     "title": ""
    }
   },
   "outputs": [],
   "source": [
    "sales_df = sales_df.withColumn(\"Parts_Added\", \n",
    "                   when(col(\"Parts_Added\") == \"0\", \"NA\")\n",
    "                   .otherwise(col(\"Parts_Added\")))"
   ]
  },
  {
   "cell_type": "code",
   "execution_count": 0,
   "metadata": {
    "application/vnd.databricks.v1+cell": {
     "cellMetadata": {
      "byteLimit": 2048000,
      "rowLimit": 10000
     },
     "inputWidgets": {},
     "nuid": "33a1c392-a645-4da8-b797-7f65905d0434",
     "showTitle": false,
     "tableResultSettingsMap": {},
     "title": ""
    }
   },
   "outputs": [],
   "source": [
    "sales_df=sales_df.withColumnRenamed(\"Branch id\", \"Branch_id\").withColumnRenamed(\"Invoice Date\", \"Invoice_Date\").withColumnRenamed(\"Temporary Registration Number\", \"Temporary_Registration_Number\").withColumnRenamed(\"Service Cost\", \"Service_Cost\").withColumnRenamed(\"Service Tax\", \"Service_Tax\").withColumnRenamed(\"Final Price\", \"Final_Price\").withColumnRenamed(\"Base Price Tax\", \"Base_Price_Tax\").withColumnRenamed(\"Discount Price\", \"Discount_Price\").withColumnRenamed(\"Chassis Number\", \"Chassis_Number\").withColumnRenamed(\"Base Price\", \"Base_Price\").withColumnRenamed(\"Parts Added\", \"Parts_Added\").withColumnRenamed(\"Parts Price\", \"Parts_Price\").withColumnRenamed(\"Parts Tax\", \"Parts_Tax\").withColumnRenamed(\"Dealer Name\", \"Dealer_Name\")"
   ]
  },
  {
   "cell_type": "code",
   "execution_count": 0,
   "metadata": {
    "application/vnd.databricks.v1+cell": {
     "cellMetadata": {
      "byteLimit": 2048000,
      "rowLimit": 10000
     },
     "inputWidgets": {},
     "nuid": "cb036643-d5d0-4ca4-8601-f4f80bc305db",
     "showTitle": false,
     "tableResultSettingsMap": {},
     "title": ""
    }
   },
   "outputs": [],
   "source": [
    "display(sales_df)"
   ]
  },
  {
   "cell_type": "code",
   "execution_count": 0,
   "metadata": {
    "application/vnd.databricks.v1+cell": {
     "cellMetadata": {
      "byteLimit": 2048000,
      "rowLimit": 10000
     },
     "inputWidgets": {},
     "nuid": "0517cf9b-ec89-4645-b2f8-70116cfed38b",
     "showTitle": false,
     "tableResultSettingsMap": {},
     "title": ""
    }
   },
   "outputs": [],
   "source": [
    "duplicates=sales_df.groupBy(\"Chassis_Number\").count().filter(col(\"count\")>1)"
   ]
  },
  {
   "cell_type": "code",
   "execution_count": 0,
   "metadata": {
    "application/vnd.databricks.v1+cell": {
     "cellMetadata": {
      "byteLimit": 2048000,
      "rowLimit": 10000
     },
     "inputWidgets": {},
     "nuid": "5581f9f9-baff-4b33-a4e8-e2948b315c00",
     "showTitle": false,
     "tableResultSettingsMap": {},
     "title": ""
    }
   },
   "outputs": [],
   "source": [
    "display(duplicates)"
   ]
  },
  {
   "cell_type": "code",
   "execution_count": 0,
   "metadata": {
    "application/vnd.databricks.v1+cell": {
     "cellMetadata": {
      "byteLimit": 2048000,
      "rowLimit": 10000
     },
     "inputWidgets": {},
     "nuid": "4ad53202-7a67-461a-91e4-7094a28f032b",
     "showTitle": false,
     "tableResultSettingsMap": {},
     "title": ""
    }
   },
   "outputs": [],
   "source": [
    "display(sales_df)"
   ]
  },
  {
   "cell_type": "code",
   "execution_count": 0,
   "metadata": {
    "application/vnd.databricks.v1+cell": {
     "cellMetadata": {
      "byteLimit": 2048000,
      "rowLimit": 10000
     },
     "inputWidgets": {},
     "nuid": "5f4754bd-fbd8-4b4a-962b-154d3c67d664",
     "showTitle": false,
     "tableResultSettingsMap": {},
     "title": ""
    }
   },
   "outputs": [],
   "source": [
    "%python\n",
    "sales_df.write.format(\"delta\").mode(\"overwrite\").save(\"abfss://servicecenterdata@servicecentreadlsgen2.dfs.core.windows.net/project/bronze/output/sales_data\")\n",
    "sales_df.write.format(\"delta\").option(\"mergeSchema\", \"true\").mode(\"overwrite\").saveAsTable(\"service_center.bronze_schema.sales_data\")"
   ]
  },
  {
   "cell_type": "markdown",
   "metadata": {
    "application/vnd.databricks.v1+cell": {
     "cellMetadata": {
      "byteLimit": 2048000,
      "rowLimit": 10000
     },
     "inputWidgets": {},
     "nuid": "27c4489a-86c7-47b2-9ffe-feb925618e9b",
     "showTitle": false,
     "tableResultSettingsMap": {},
     "title": ""
    }
   },
   "source": [
    "### Vehicle Data"
   ]
  },
  {
   "cell_type": "code",
   "execution_count": 0,
   "metadata": {
    "application/vnd.databricks.v1+cell": {
     "cellMetadata": {
      "byteLimit": 2048000,
      "rowLimit": 10000
     },
     "inputWidgets": {},
     "nuid": "4b211798-6ceb-4ae3-aa73-6791e3e1098c",
     "showTitle": false,
     "tableResultSettingsMap": {},
     "title": ""
    }
   },
   "outputs": [],
   "source": [
    "vehicle_df=spark.read.format(\"csv\").option(\"header\",\"true\").option(\"inferSchema\",\"true\").load('abfss://servicecenterdata@servicecentreadlsgen2.dfs.core.windows.net/project/bronze/Malik_Motors_vehicle_data.csv')"
   ]
  },
  {
   "cell_type": "code",
   "execution_count": 0,
   "metadata": {
    "application/vnd.databricks.v1+cell": {
     "cellMetadata": {
      "byteLimit": 2048000,
      "rowLimit": 10000
     },
     "inputWidgets": {},
     "nuid": "388d1256-5c88-4aaf-b222-5dd9ac56cd1e",
     "showTitle": false,
     "tableResultSettingsMap": {},
     "title": ""
    }
   },
   "outputs": [],
   "source": [
    "vehicle_df = vehicle_df.drop(\"ChassisNumber\")"
   ]
  },
  {
   "cell_type": "code",
   "execution_count": 0,
   "metadata": {
    "application/vnd.databricks.v1+cell": {
     "cellMetadata": {
      "byteLimit": 2048000,
      "rowLimit": 10000
     },
     "inputWidgets": {},
     "nuid": "9c3d956a-cc5e-49cf-ab78-ebbbdf0dca0b",
     "showTitle": false,
     "tableResultSettingsMap": {},
     "title": ""
    }
   },
   "outputs": [],
   "source": [
    "vehicle_df=vehicle_df.na.drop()"
   ]
  },
  {
   "cell_type": "code",
   "execution_count": 0,
   "metadata": {
    "application/vnd.databricks.v1+cell": {
     "cellMetadata": {
      "byteLimit": 2048000,
      "rowLimit": 10000
     },
     "inputWidgets": {},
     "nuid": "32c99db2-371f-4799-9e52-87b78c0e6be0",
     "showTitle": false,
     "tableResultSettingsMap": {},
     "title": ""
    }
   },
   "outputs": [],
   "source": [
    "display(vehicle_df)"
   ]
  },
  {
   "cell_type": "code",
   "execution_count": 0,
   "metadata": {
    "application/vnd.databricks.v1+cell": {
     "cellMetadata": {
      "byteLimit": 2048000,
      "rowLimit": 10000
     },
     "inputWidgets": {},
     "nuid": "8bcc53e5-f4ec-4e77-a450-7c68901d5879",
     "showTitle": false,
     "tableResultSettingsMap": {},
     "title": ""
    }
   },
   "outputs": [],
   "source": [
    "from pyspark.sql import SparkSession\n",
    "from pyspark.sql.functions import udf, col\n",
    "from pyspark.sql.functions import round as spark_round\n",
    "from pyspark.sql.types import FloatType\n",
    "\n",
    "# Define UDF\n",
    "def extract_avg_price(price_str):\n",
    "    import re\n",
    "    price_str = price_str.lower().replace(\"lakh\", \"\").strip()\n",
    "    numbers = re.findall(r\"\\d+\\.\\d+\", price_str)\n",
    "    \n",
    "    if len(numbers) == 2:\n",
    "        return (float(numbers[0]) + float(numbers[1])) / 2\n",
    "    elif len(numbers) == 1:\n",
    "        return float(numbers[0])\n",
    "    else:\n",
    "        return None\n",
    "\n",
    "# Register UDF\n",
    "avg_price_udf = udf(extract_avg_price, FloatType())\n",
    "\n",
    "# Apply UDF and round the result using spark_round\n",
    "vehicle_df = vehicle_df.withColumn(\"avg_price_lakh\", spark_round(avg_price_udf(col(\"price\")), 2))\n",
    "\n",
    "# Display\n",
    "vehicle_df.display()\n"
   ]
  },
  {
   "cell_type": "code",
   "execution_count": 0,
   "metadata": {
    "application/vnd.databricks.v1+cell": {
     "cellMetadata": {
      "byteLimit": 2048000,
      "rowLimit": 10000
     },
     "inputWidgets": {},
     "nuid": "e6abc2d0-8d69-43ec-b53f-a992eabd46be",
     "showTitle": false,
     "tableResultSettingsMap": {},
     "title": ""
    }
   },
   "outputs": [],
   "source": [
    "%python\n",
    "# Set the session configuration to enable schema auto merge\n",
    "spark.conf.set(\"spark.databricks.delta.schema.autoMerge.enabled\", \"true\")\n",
    "\n",
    "# Write the DataFrame with schema evolution enabled\n",
    "vehicle_df.write.format(\"delta\").option(\"mergeSchema\", \"true\").mode(\"overwrite\").save(\"abfss://servicecenterdata@servicecentreadlsgen2.dfs.core.windows.net/project/bronze/output/vehicle_data\")\n",
    "\n",
    "# Write the DataFrame to a table with schema evolution enabled\n",
    "vehicle_df.write.format(\"delta\").option(\"mergeSchema\", \"true\").mode(\"overwrite\").saveAsTable(\"service_center.bronze_schema.vehicle_data\")"
   ]
  },
  {
   "cell_type": "markdown",
   "metadata": {
    "application/vnd.databricks.v1+cell": {
     "cellMetadata": {
      "byteLimit": 2048000,
      "rowLimit": 10000
     },
     "inputWidgets": {},
     "nuid": "7f4aa32c-dbf3-496d-95c8-1a254834d95c",
     "showTitle": false,
     "tableResultSettingsMap": {},
     "title": ""
    }
   },
   "source": [
    "### branch convenience score"
   ]
  },
  {
   "cell_type": "code",
   "execution_count": 0,
   "metadata": {
    "application/vnd.databricks.v1+cell": {
     "cellMetadata": {
      "byteLimit": 2048000,
      "rowLimit": 10000
     },
     "inputWidgets": {},
     "nuid": "091f082c-80c5-4dc7-83cb-e6be916f315e",
     "showTitle": false,
     "tableResultSettingsMap": {},
     "title": ""
    }
   },
   "outputs": [],
   "source": [
    "branch_conveniance_df=spark.read.format(\"csv\").option('header','true').option('inferSchema','true').load(\"abfss://servicecenterdata@servicecentreadlsgen2.dfs.core.windows.net/project/bronze/branch_convience_score.csv\")"
   ]
  },
  {
   "cell_type": "code",
   "execution_count": 0,
   "metadata": {
    "application/vnd.databricks.v1+cell": {
     "cellMetadata": {
      "byteLimit": 2048000,
      "rowLimit": 10000
     },
     "inputWidgets": {},
     "nuid": "3948493a-0ec1-4ac4-8a48-9098017c2425",
     "showTitle": false,
     "tableResultSettingsMap": {},
     "title": ""
    }
   },
   "outputs": [],
   "source": [
    "branch_conveniance_df.filter(col('Branch_Name').isNull()).count()"
   ]
  },
  {
   "cell_type": "code",
   "execution_count": 0,
   "metadata": {
    "application/vnd.databricks.v1+cell": {
     "cellMetadata": {
      "byteLimit": 2048000,
      "rowLimit": 10000
     },
     "inputWidgets": {},
     "nuid": "2cd2490b-9cac-48a1-a56a-9a7c7ff6a627",
     "showTitle": false,
     "tableResultSettingsMap": {},
     "title": ""
    }
   },
   "outputs": [],
   "source": [
    "display(branch_conveniance_df)"
   ]
  },
  {
   "cell_type": "code",
   "execution_count": 0,
   "metadata": {
    "application/vnd.databricks.v1+cell": {
     "cellMetadata": {
      "byteLimit": 2048000,
      "rowLimit": 10000
     },
     "inputWidgets": {},
     "nuid": "853fb42c-4298-4e1d-b996-60c8e1878026",
     "showTitle": false,
     "tableResultSettingsMap": {},
     "title": ""
    }
   },
   "outputs": [],
   "source": [
    "branch_conveniance_df=branch_conveniance_df.na.drop()"
   ]
  },
  {
   "cell_type": "code",
   "execution_count": 0,
   "metadata": {
    "application/vnd.databricks.v1+cell": {
     "cellMetadata": {
      "byteLimit": 2048000,
      "rowLimit": 10000
     },
     "inputWidgets": {},
     "nuid": "fc0f65e0-937c-4ae0-ad56-273b1893c9aa",
     "showTitle": false,
     "tableResultSettingsMap": {},
     "title": ""
    }
   },
   "outputs": [],
   "source": [
    "from pyspark.sql.functions import col\n",
    "from pyspark.sql.types import DoubleType\n",
    " \n",
    "branch_conveniance_df= branch_conveniance_df.withColumn(\"Workshop_Area_sqft\", col(\"Workshop_Area_sqft\").cast(DoubleType())) \\\n",
    "               .withColumn(\"Monthly_Revenue\", col(\"Monthly_Revenue\").cast(DoubleType())) \\\n",
    "               .withColumn(\"normalization_service_day\", col(\"normalization_service_day\").cast(DoubleType()))"
   ]
  },
  {
   "cell_type": "code",
   "execution_count": 0,
   "metadata": {
    "application/vnd.databricks.v1+cell": {
     "cellMetadata": {
      "byteLimit": 2048000,
      "rowLimit": 10000
     },
     "inputWidgets": {},
     "nuid": "aabd30a5-d873-42eb-8cfe-dd99f2f75e97",
     "showTitle": false,
     "tableResultSettingsMap": {},
     "title": ""
    }
   },
   "outputs": [],
   "source": [
    "branch_conveniance_df = branch_conveniance_df.withColumnRenamed(\"Number of Employees\", \"Number_of_Employees\").withColumnRenamed(\"Service days\", \"Service_days\")"
   ]
  },
  {
   "cell_type": "code",
   "execution_count": 0,
   "metadata": {
    "application/vnd.databricks.v1+cell": {
     "cellMetadata": {
      "byteLimit": 2048000,
      "rowLimit": 10000
     },
     "inputWidgets": {},
     "nuid": "694845fe-d310-4fa1-ad5a-ef6bfad744bb",
     "showTitle": false,
     "tableResultSettingsMap": {},
     "title": ""
    }
   },
   "outputs": [],
   "source": [
    "duplicates=branch_conveniance_df.groupBy(\"Branch_Type\").count().filter(col(\"count\")>1)"
   ]
  },
  {
   "cell_type": "code",
   "execution_count": 0,
   "metadata": {
    "application/vnd.databricks.v1+cell": {
     "cellMetadata": {
      "byteLimit": 2048000,
      "rowLimit": 10000
     },
     "inputWidgets": {},
     "nuid": "143449ba-e74c-46e4-af15-0555a3a41c47",
     "showTitle": false,
     "tableResultSettingsMap": {},
     "title": ""
    }
   },
   "outputs": [],
   "source": [
    "branch_conveniance_df.write.format(\"delta\").mode(\"overwrite\").save(\"abfss://servicecenterdata@servicecentreadlsgen2.dfs.core.windows.net/project/bronze/output/branch_conveniance_score\")\n",
    "\n",
    "branch_conveniance_df.write.format(\"delta\").option(\"mergeSchema\", \"true\").mode(\"overwrite\").saveAsTable(\"service_center.bronze_schema.branch_conveniance_score\")"
   ]
  },
  {
   "cell_type": "markdown",
   "metadata": {
    "application/vnd.databricks.v1+cell": {
     "cellMetadata": {
      "byteLimit": 2048000,
      "rowLimit": 10000
     },
     "inputWidgets": {},
     "nuid": "16f99e0e-2ce9-4ad0-8391-27e7c000bcaf",
     "showTitle": false,
     "tableResultSettingsMap": {},
     "title": ""
    }
   },
   "source": [
    "### branch wise model score\n"
   ]
  },
  {
   "cell_type": "code",
   "execution_count": 0,
   "metadata": {
    "application/vnd.databricks.v1+cell": {
     "cellMetadata": {
      "byteLimit": 2048000,
      "rowLimit": 10000
     },
     "inputWidgets": {},
     "nuid": "7da14104-1072-4a65-918e-e208eab27dd1",
     "showTitle": false,
     "tableResultSettingsMap": {},
     "title": ""
    }
   },
   "outputs": [],
   "source": [
    "model_convenience_df=spark.read.format(\"csv\").option('header','true').option('inferSchema','true').load(\"abfss://servicecenterdata@servicecentreadlsgen2.dfs.core.windows.net/project/bronze/Model_Convenience_Score.csv\")"
   ]
  },
  {
   "cell_type": "code",
   "execution_count": 0,
   "metadata": {
    "application/vnd.databricks.v1+cell": {
     "cellMetadata": {
      "byteLimit": 2048000,
      "rowLimit": 10000
     },
     "inputWidgets": {},
     "nuid": "ba6c2454-8d94-48b2-a9e9-4566e7175181",
     "showTitle": false,
     "tableResultSettingsMap": {},
     "title": ""
    }
   },
   "outputs": [],
   "source": [
    "model_convenience_df=model_convenience_df.withColumn(\"Start Date\",col(\"Start Date\").cast(\"timestamp\")).withColumn(\"Expected Date\",col(\"Expected Date\").cast(\"timestamp\")).withColumn(\"Actual Date\",col(\"Start Date\").cast(\"timestamp\"))"
   ]
  },
  {
   "cell_type": "code",
   "execution_count": 0,
   "metadata": {
    "application/vnd.databricks.v1+cell": {
     "cellMetadata": {
      "byteLimit": 2048000,
      "rowLimit": 10000
     },
     "inputWidgets": {},
     "nuid": "045d6aef-1e7a-4a52-b501-c2a3e1613e29",
     "showTitle": false,
     "tableResultSettingsMap": {},
     "title": ""
    }
   },
   "outputs": [],
   "source": [
    "model_convenience_df = model_convenience_df.withColumnRenamed(\"Dealer Name\", \"Dealer_Name\").withColumnRenamed(\"Branch_ID\", \"Branch_ID\").withColumnRenamed(\"Branch Convenience Score\", \"Branch_Convenience_Score\").withColumnRenamed(\"Number of Visits\", \"Number_of_Visits\").withColumnRenamed(\"Start Date\", \"Start_Date\").withColumnRenamed(\"Expected Date\", \"Expected_Date\").withColumnRenamed(\"Actual Date\",\"Actual_Date\").withColumnRenamed(\"Total Price\", \"Total_Price\").withColumnRenamed(\"Average Cost\", \"Average_Cost\").withColumnRenamed(\"Average Delays\", \"Average_Delays\").withColumnRenamed(\"Normalized Average Delays\", \"Normalized_Average_Delays\").withColumnRenamed(\"Normalized Visit Count\", \"Normalized_Visit_Count\").withColumnRenamed(\"Normalized Average Cost\", \"Normalized_Average_Cost\").withColumnRenamed(\"Delay Days\", \"Delay_Days\").withColumnRenamed(\"Visit Count\", \"Visit_Count\")"
   ]
  },
  {
   "cell_type": "code",
   "execution_count": 0,
   "metadata": {
    "application/vnd.databricks.v1+cell": {
     "cellMetadata": {
      "byteLimit": 2048000,
      "rowLimit": 10000
     },
     "inputWidgets": {},
     "nuid": "017fafb8-7f17-45df-9f9d-c638b47547dd",
     "showTitle": false,
     "tableResultSettingsMap": {},
     "title": ""
    }
   },
   "outputs": [],
   "source": [
    "model_convenience_df=model_convenience_df.drop(\"Actual Date \",\"_c0\")"
   ]
  },
  {
   "cell_type": "code",
   "execution_count": 0,
   "metadata": {
    "application/vnd.databricks.v1+cell": {
     "cellMetadata": {
      "byteLimit": 2048000,
      "rowLimit": 10000
     },
     "inputWidgets": {},
     "nuid": "7d0c0d85-20db-4f91-aace-1e4016fdee81",
     "showTitle": false,
     "tableResultSettingsMap": {},
     "title": ""
    }
   },
   "outputs": [],
   "source": [
    "%python\n",
    "null_counts = model_convenience_df.select(\n",
    "    [sum(col(c).isNull().cast(\"int\")).alias(c) for c in model_convenience_df.columns]\n",
    ")\n",
    "display(null_counts)"
   ]
  },
  {
   "cell_type": "code",
   "execution_count": 0,
   "metadata": {
    "application/vnd.databricks.v1+cell": {
     "cellMetadata": {
      "byteLimit": 2048000,
      "rowLimit": 10000
     },
     "inputWidgets": {},
     "nuid": "94c7fe4d-cb1e-4da6-be2a-3a41b458ead2",
     "showTitle": false,
     "tableResultSettingsMap": {},
     "title": ""
    }
   },
   "outputs": [],
   "source": [
    "duplicates=model_convenience_df.groupBy(\"Branch_Id\").count().filter(col(\"count\")>1)"
   ]
  },
  {
   "cell_type": "code",
   "execution_count": 0,
   "metadata": {
    "application/vnd.databricks.v1+cell": {
     "cellMetadata": {
      "byteLimit": 2048000,
      "rowLimit": 10000
     },
     "inputWidgets": {},
     "nuid": "78bd0531-950a-4689-9fcb-5a65a34877c9",
     "showTitle": false,
     "tableResultSettingsMap": {},
     "title": ""
    }
   },
   "outputs": [],
   "source": [
    "duplicates=model_convenience_df.groupBy(\"Branch_ID\").count().filter(col(\"count\")>1)\n",
    "display(duplicates)"
   ]
  },
  {
   "cell_type": "code",
   "execution_count": 0,
   "metadata": {
    "application/vnd.databricks.v1+cell": {
     "cellMetadata": {
      "byteLimit": 2048000,
      "rowLimit": 10000
     },
     "inputWidgets": {},
     "nuid": "ae537627-33ac-453c-b01c-ef2489a244b2",
     "showTitle": false,
     "tableResultSettingsMap": {},
     "title": ""
    }
   },
   "outputs": [],
   "source": [
    "model_convenience_df.write.format(\"delta\").mode(\"overwrite\").save(\"abfss://servicecenterdata@servicecentreadlsgen2.dfs.core.windows.net/project/bronze/output/success_score\")\n",
    "\n",
    "model_convenience_df.write.format(\"delta\").option(\"mergeSchema\", \"true\").mode(\"overwrite\").saveAsTable(\"service_center.bronze_schema.success_score\")"
   ]
  },
  {
   "cell_type": "markdown",
   "metadata": {
    "application/vnd.databricks.v1+cell": {
     "cellMetadata": {
      "byteLimit": 2048000,
      "rowLimit": 10000
     },
     "inputWidgets": {},
     "nuid": "8c0cc2c2-e1a5-47df-ba36-d9d7a455ad94",
     "showTitle": false,
     "tableResultSettingsMap": {},
     "title": ""
    }
   },
   "source": [
    "## service data \n"
   ]
  },
  {
   "cell_type": "code",
   "execution_count": 0,
   "metadata": {
    "application/vnd.databricks.v1+cell": {
     "cellMetadata": {
      "byteLimit": 2048000,
      "rowLimit": 10000
     },
     "inputWidgets": {},
     "nuid": "2c4105ef-ea32-464b-93f7-63cee4d192fb",
     "showTitle": false,
     "tableResultSettingsMap": {},
     "title": ""
    }
   },
   "outputs": [],
   "source": [
    "service_df=spark.read.format(\"csv\").option(\"header\",True).option(\"infeSchema\",True).load(\"abfss://servicecenterdata@servicecentreadlsgen2.dfs.core.windows.net/project/bronze/Malik_motors_Service.csv\")"
   ]
  },
  {
   "cell_type": "code",
   "execution_count": 0,
   "metadata": {
    "application/vnd.databricks.v1+cell": {
     "cellMetadata": {
      "byteLimit": 2048000,
      "rowLimit": 10000
     },
     "inputWidgets": {},
     "nuid": "ab5bc52d-0101-4964-a363-2549b994d734",
     "showTitle": false,
     "tableResultSettingsMap": {},
     "title": ""
    }
   },
   "outputs": [],
   "source": [
    "service_df = service_df.withColumnRenamed(\"Chassis Number\", \"Chassis_Number\").withColumnRenamed(\"Number of Visits\", \"Number_of_Visits\").withColumnRenamed(\"Start Date\", \"Start_Date\").withColumnRenamed(\"Expected Date\", \"Expected_Date\").withColumnRenamed(\"Actual Date\",\"Actual_Date\").withColumnRenamed(\"Delay Days\", \"Delay_Days\").withColumnRenamed(\"Speciality\", \"Speciality\").withColumnRenamed(\"Parts Added\", \"Parts_Added\").withColumnRenamed(\"Individual Parts Tax\", \"Individual_Parts_Tax\").withColumnRenamed(\"Service Cost\", \"Service_Cost\").withColumnRenamed(\"Service Tax\", \"Service_Tax\").withColumnRenamed(\"Total Price\", \"Total_Price\").withColumnRenamed(\"Customer Feedback\", \"Customer_Feedback\").withColumnRenamed(\"Delayed Reason\", \"Delayed_Reason\").withColumnRenamed(\"Previous Service Date\", \"Previous_Service_Date\").withColumnRenamed(\"Individual Parts Cost\", \"Individual_Parts_Cost\")"
   ]
  },
  {
   "cell_type": "code",
   "execution_count": 0,
   "metadata": {
    "application/vnd.databricks.v1+cell": {
     "cellMetadata": {
      "byteLimit": 2048000,
      "rowLimit": 10000
     },
     "inputWidgets": {},
     "nuid": "59567d2d-3ba0-4de1-a34b-42ae0be5a574",
     "showTitle": false,
     "tableResultSettingsMap": {},
     "title": ""
    }
   },
   "outputs": [],
   "source": [
    "from pyspark.sql.functions import col\n",
    "service_df=service_df.withColumn(\"Service_Tax\",col(\"Service_Tax\").cast(\"double\")).withColumn(\"Service_Cost\",col(\"Service_Cost\").cast(\"double\")).withColumn(\"Total_Price\",col(\"Total_Price\").cast(\"double\")).withColumn(\"Individual_Parts_Cost\",col(\"Individual_Parts_Cost\").cast(\"double\")).withColumn(\"Number_of_Visits\",col(\"Number_of_Visits\").cast(\"long\")).withColumn(\"Start_Date\",col(\"Start_Date\").cast(\"timestamp\")).withColumn(\"Expected_Date\",col(\"Expected_Date\").cast(\"timestamp\")).withColumn(\"Actual_Date\",col(\"Actual_Date\").cast(\"timestamp\")).withColumn(\"Delay_Days\",col(\"Delay_Days\").cast(\"int\")).withColumn(\"Individual_Parts_Tax\",col(\"Individual_Parts_Tax\").cast(\"double\")).withColumn(\"Previous_Service_Date\",col(\"Previous_Service_Date\").cast(\"timestamp\"))"
   ]
  },
  {
   "cell_type": "code",
   "execution_count": 0,
   "metadata": {
    "application/vnd.databricks.v1+cell": {
     "cellMetadata": {
      "byteLimit": 2048000,
      "rowLimit": 10000
     },
     "inputWidgets": {},
     "nuid": "a50bec66-7f00-46b1-83c0-f6ceebcfa7c2",
     "showTitle": false,
     "tableResultSettingsMap": {},
     "title": ""
    }
   },
   "outputs": [],
   "source": [
    "display(service_df)"
   ]
  },
  {
   "cell_type": "code",
   "execution_count": 0,
   "metadata": {
    "application/vnd.databricks.v1+cell": {
     "cellMetadata": {
      "byteLimit": 2048000,
      "rowLimit": 10000
     },
     "inputWidgets": {},
     "nuid": "971b891d-328d-498f-88e1-f31fdfe22300",
     "showTitle": false,
     "tableResultSettingsMap": {},
     "title": ""
    }
   },
   "outputs": [],
   "source": [
    "null_counts = service_df.select([\n",
    "    sum(when(col(c).isNull(), 1).otherwise(0)).alias(c)\n",
    "    for c in service_df.columns\n",
    "])"
   ]
  },
  {
   "cell_type": "code",
   "execution_count": 0,
   "metadata": {
    "application/vnd.databricks.v1+cell": {
     "cellMetadata": {
      "byteLimit": 2048000,
      "rowLimit": 10000
     },
     "inputWidgets": {},
     "nuid": "f68e9994-52ed-4054-9617-dd20540e70fa",
     "showTitle": false,
     "tableResultSettingsMap": {},
     "title": ""
    }
   },
   "outputs": [],
   "source": [
    "display(null_counts)"
   ]
  },
  {
   "cell_type": "code",
   "execution_count": 0,
   "metadata": {
    "application/vnd.databricks.v1+cell": {
     "cellMetadata": {
      "byteLimit": 2048000,
      "rowLimit": 10000
     },
     "inputWidgets": {},
     "nuid": "27bcc210-04f2-4349-9582-21302ca33fd1",
     "showTitle": false,
     "tableResultSettingsMap": {},
     "title": ""
    }
   },
   "outputs": [],
   "source": [
    "# service_df = service_df.fillna({\"Start_Date\": \"2022-02-11\"})\n",
    "# service_df = service_df.fillna({\"Expected_Date\": \"2022-02-14\"})\n",
    "# service_df = service_df.fillna({\"Previous_Service_Date\": \"NaT\"})\n",
    "service_df=service_df.fillna({\"Delayed_Reason\": \"NA\"})"
   ]
  },
  {
   "cell_type": "code",
   "execution_count": 0,
   "metadata": {
    "application/vnd.databricks.v1+cell": {
     "cellMetadata": {
      "byteLimit": 2048000,
      "rowLimit": 10000
     },
     "inputWidgets": {},
     "nuid": "3d8bfd03-0ba8-4959-8f60-7f967018ef21",
     "showTitle": false,
     "tableResultSettingsMap": {},
     "title": ""
    }
   },
   "outputs": [],
   "source": [
    "# service_df=service_df.withColumn(\"Previous_Service_Date\",col(\"Previous_Service_Date\").cast(\"timestamp\"))"
   ]
  },
  {
   "cell_type": "code",
   "execution_count": 0,
   "metadata": {
    "application/vnd.databricks.v1+cell": {
     "cellMetadata": {
      "byteLimit": 2048000,
      "rowLimit": 10000
     },
     "inputWidgets": {},
     "nuid": "dc5a2dc0-74ce-44bc-ac3e-e408548ed172",
     "showTitle": false,
     "tableResultSettingsMap": {},
     "title": ""
    }
   },
   "outputs": [],
   "source": [
    "display(service_df)"
   ]
  },
  {
   "cell_type": "code",
   "execution_count": 0,
   "metadata": {
    "application/vnd.databricks.v1+cell": {
     "cellMetadata": {
      "byteLimit": 2048000,
      "rowLimit": 10000
     },
     "inputWidgets": {},
     "nuid": "0e47d241-421e-46ef-a1a9-975831b6aa9f",
     "showTitle": false,
     "tableResultSettingsMap": {},
     "title": ""
    }
   },
   "outputs": [],
   "source": [
    "from pyspark.sql import functions as F\n",
    "\n",
    "service_df = service_df.withColumn(\n",
    "    'Previous_Service_Date',\n",
    "    F.when(F.col('Previous_Service_Date').isNull(), F.col('Start_Date'))\n",
    "     .otherwise(F.col('Previous_Service_Date'))\n",
    ")\n"
   ]
  },
  {
   "cell_type": "code",
   "execution_count": 0,
   "metadata": {
    "application/vnd.databricks.v1+cell": {
     "cellMetadata": {
      "byteLimit": 2048000,
      "rowLimit": 10000
     },
     "inputWidgets": {},
     "nuid": "63ca7117-e94b-42df-8213-3b64e8d052c9",
     "showTitle": false,
     "tableResultSettingsMap": {},
     "title": ""
    }
   },
   "outputs": [],
   "source": [
    "service_df.write.format(\"delta\").mode(\"overwrite\").save(\"abfss://servicecenterdata@servicecentreadlsgen2.dfs.core.windows.net/project/bronze/output/service_centre\")\n",
    "\n",
    "service_df.write.format(\"delta\").option(\"mergeSchema\",True).mode(\"overwrite\").saveAsTable(\"service_center.bronze_schema.service_centre\")"
   ]
  }
 ],
 "metadata": {
  "application/vnd.databricks.v1+notebook": {
   "computePreferences": null,
   "dashboards": [],
   "environmentMetadata": {
    "base_environment": "",
    "environment_version": "2"
   },
   "inputWidgetPreferences": null,
   "language": "python",
   "notebookMetadata": {
    "mostRecentlyExecutedCommandWithImplicitDF": {
     "commandId": 6346763423698005,
     "dataframes": [
      "_sqldf"
     ]
    },
    "pythonIndentUnit": 4
   },
   "notebookName": "(Clone) Bronze",
   "widgets": {}
  },
  "language_info": {
   "name": "python"
  }
 },
 "nbformat": 4,
 "nbformat_minor": 0
}
